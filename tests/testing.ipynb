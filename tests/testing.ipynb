{
 "cells": [
  {
   "cell_type": "markdown",
   "id": "8f314e6f-d5be-46ab-89ee-3586fdeb5301",
   "metadata": {
    "pycharm": {
     "name": "#%% md\n"
    }
   },
   "source": [
    "curl -L -O https://github.com/conda-forge/miniforge/releases/latest/download/Mambaforge-$(uname)-$(uname -m).sh\n",
    "bash Mambaforge-$(uname)-$(uname -m).sh -b -p $HOME/mambaforge\n",
    "export PATH=\"$HOME/mambaforge/bin:$PATH\"\n",
    "mamba create -n rapids -c rapidsai -c nvidia -c conda-forge rapids=22.06 python=3.8 cudatoolkit=11.5 ipykernel\n",
    "source activate rapids\n",
    "python -m ipykernel install --user --name=rapids"
   ]
  },
  {
   "cell_type": "code",
   "execution_count": 37,
   "id": "b9e7f3ac-3e8e-495e-abec-a1d23858bacb",
   "metadata": {
    "pycharm": {
     "name": "#%%\n"
    }
   },
   "outputs": [],
   "source": [
    "inFasta='input_files/trialData.fasta'\n",
    "inMeta='input_files/MPXV_metadata_Sample_Run_1.xlsx'\n",
    "refFasta='ref/ref.MPXV.NC063383.v7.fasta'\n",
    "refGFF='ref/ref.MPXV.NC063383.v7.gff'\n",
    "reformGFF='liftoff_outdir/reformatted.gff'\n",
    "outdir='lifoff_outdir_testing'"
   ]
  },
  {
   "cell_type": "code",
   "execution_count": 38,
   "id": "30493511-9b0b-4849-8c0d-f6a6212b826e",
   "metadata": {
    "pycharm": {
     "name": "#%%\n"
    }
   },
   "outputs": [
    {
     "name": "stdout",
     "output_type": "stream",
     "text": [
      "/opt/tljh/user/lib/python3.9/site-packages/openpyxl/worksheet/_reader.py:312: UserWarning: Data Validation extension is not supported and will be removed\n",
      "  warn(msg)\n",
      "sh: 1: liftoff: not found\n",
      "Traceback (most recent call last):\n",
      "  File \"/scicomp/home-pure/ufp0/mpxv_annotation_submission_dev/bin/liftoff_submission.py\", line 301, in <module>\n",
      "    annotation_main()\n",
      "  File \"/scicomp/home-pure/ufp0/mpxv_annotation_submission_dev/bin/liftoff_submission.py\", line 35, in annotation_main\n",
      "    annotation_transfer.transfer_annotation(split_fasta_file)\n",
      "  File \"/scicomp/home-pure/ufp0/mpxv_annotation_submission_dev/bin/liftoff_submission.py\", line 165, in transfer_annotation\n",
      "    self.reformat_gff(new_gff, samp_name)\n",
      "  File \"/scicomp/home-pure/ufp0/mpxv_annotation_submission_dev/bin/liftoff_submission.py\", line 185, in reformat_gff\n",
      "    with open(new_gff) as f:\n",
      "FileNotFoundError: [Errno 2] No such file or directory: 'temp_MPXV_metadata_Sample_Run_1_1664986644.4863005/liftoff/FL0004.liftoff-orig.gff'\n"
     ]
    }
   ],
   "source": [
    "! python bin/liftoff_submission.py --fasta_path $inFasta --meta_path $inMeta -o $outdir --ref_fasta $refFasta --ref_gff_path $refGFF"
   ]
  },
  {
   "cell_type": "code",
   "execution_count": null,
   "id": "24bc6af7-a023-4e69-a079-6f0b227f5a03",
   "metadata": {
    "pycharm": {
     "name": "#%%\n"
    }
   },
   "outputs": [],
   "source": []
  },
  {
   "cell_type": "code",
   "execution_count": 30,
   "id": "51ae85bc-6a22-4bdd-be3d-70f1845bb0b5",
   "metadata": {
    "pycharm": {
     "name": "#%%\n"
    }
   },
   "outputs": [
    {
     "name": "stdout",
     "output_type": "stream",
     "text": [
      "^C\n"
     ]
    }
   ],
   "source": [
    "!/home/jupyter-ufp0/.conda/envs/liftoff/bin/liftoff"
   ]
  },
  {
   "cell_type": "code",
   "execution_count": 25,
   "id": "0a6ff0a9-1fa5-4cd6-bb69-6d6dd0c6ad81",
   "metadata": {
    "pycharm": {
     "name": "#%%\n"
    }
   },
   "outputs": [
    {
     "name": "stdout",
     "output_type": "stream",
     "text": [
      "# conda environments:\n",
      "#\n",
      "liftoff                  /home/jupyter-ufp0/.conda/envs/liftoff\n",
      "base                     /opt/tljh/user\n",
      "\n",
      "\n",
      "Note: you may need to restart the kernel to use updated packages.\n"
     ]
    }
   ],
   "source": [
    "conda env list"
   ]
  },
  {
   "cell_type": "code",
   "execution_count": null,
   "id": "4b32ec5f-85c3-477e-853e-96f327b9d0f0",
   "metadata": {
    "pycharm": {
     "name": "#%%\n"
    }
   },
   "outputs": [],
   "source": []
  }
 ],
 "metadata": {
  "kernelspec": {
   "display_name": "liftoff",
   "language": "python",
   "name": "liftoff"
  },
  "language_info": {
   "codemirror_mode": {
    "name": "ipython",
    "version": 3
   },
   "file_extension": ".py",
   "mimetype": "text/x-python",
   "name": "python",
   "nbconvert_exporter": "python",
   "pygments_lexer": "ipython3",
   "version": "3.9.13"
  }
 },
 "nbformat": 4,
 "nbformat_minor": 5
}